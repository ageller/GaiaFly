{
 "cells": [
  {
   "cell_type": "markdown",
   "metadata": {},
   "source": [
    "# Importing Gaia data to Firefly\n",
    "\n",
    "*Building off of the tutorial here: http://gea.esac.esa.int/archive-help/index.html *\n",
    "\n",
    "*The main table is gaiadr2.gaia_source, and [here](http://gea.esac.esa.int/archive/documentation/GDR2/Gaia_archive/chap_datamodel/sec_dm_main_tables/ssec_dm_gaia_source.html) is the description of the columns*"
   ]
  },
  {
   "cell_type": "code",
   "execution_count": 1,
   "metadata": {},
   "outputs": [
    {
     "name": "stderr",
     "output_type": "stream",
     "text": [
      "/Users/ageller/anaconda/envs/py36/lib/python3.6/site-packages/h5py/__init__.py:36: FutureWarning: Conversion of the second argument of issubdtype from `float` to `np.floating` is deprecated. In future, it will be treated as `np.float64 == np.dtype(float).type`.\n",
      "  from ._conv import register_converters as _register_converters\n"
     ]
    }
   ],
   "source": [
    "%load_ext autoreload\n",
    "%autoreload 2\n",
    "from FIREreader import FIREreader"
   ]
  },
  {
   "cell_type": "code",
   "execution_count": 2,
   "metadata": {},
   "outputs": [
    {
     "name": "stdout",
     "output_type": "stream",
     "text": [
      "Created TAP+ (v1.0.1) - Connection:\n",
      "\tHost: gea.esac.esa.int\n",
      "\tUse HTTPS: False\n",
      "\tPort: 80\n",
      "\tSSL Port: 443\n"
     ]
    }
   ],
   "source": [
    "import astropy.units as u\n",
    "from astropy.coordinates import ICRS\n",
    "from astropy.coordinates.sky_coordinate import SkyCoord\n",
    "from astroquery.gaia import Gaia\n",
    "import numpy as np"
   ]
  },
  {
   "cell_type": "markdown",
   "metadata": {},
   "source": [
    "*Do the following to load and look at the available Gaia table names:*"
   ]
  },
  {
   "cell_type": "code",
   "execution_count": 3,
   "metadata": {
    "scrolled": false
   },
   "outputs": [
    {
     "name": "stdout",
     "output_type": "stream",
     "text": [
      "Retrieving tables...\n",
      "Parsing tables...\n",
      "Done.\n",
      "public.public.dual\n",
      "public.public.hipparcos\n",
      "public.public.hipparcos_newreduction\n",
      "public.public.hubble_sc\n",
      "public.public.igsl_source\n",
      "public.public.igsl_source_catalog_ids\n",
      "public.public.tycho2\n",
      "tap_schema.tap_schema.columns\n",
      "tap_schema.tap_schema.key_columns\n",
      "tap_schema.tap_schema.keys\n",
      "tap_schema.tap_schema.schemas\n",
      "tap_schema.tap_schema.tables\n",
      "gaiadr1.gaiadr1.aux_qso_icrf2_match\n",
      "gaiadr1.gaiadr1.ext_phot_zero_point\n",
      "gaiadr1.gaiadr1.allwise_best_neighbour\n",
      "gaiadr1.gaiadr1.allwise_neighbourhood\n",
      "gaiadr1.gaiadr1.gsc23_best_neighbour\n",
      "gaiadr1.gaiadr1.gsc23_neighbourhood\n",
      "gaiadr1.gaiadr1.ppmxl_best_neighbour\n",
      "gaiadr1.gaiadr1.ppmxl_neighbourhood\n",
      "gaiadr1.gaiadr1.sdss_dr9_best_neighbour\n",
      "gaiadr1.gaiadr1.sdss_dr9_neighbourhood\n",
      "gaiadr1.gaiadr1.tmass_best_neighbour\n",
      "gaiadr1.gaiadr1.tmass_neighbourhood\n",
      "gaiadr1.gaiadr1.ucac4_best_neighbour\n",
      "gaiadr1.gaiadr1.ucac4_neighbourhood\n",
      "gaiadr1.gaiadr1.urat1_best_neighbour\n",
      "gaiadr1.gaiadr1.urat1_neighbourhood\n",
      "gaiadr1.gaiadr1.cepheid\n",
      "gaiadr1.gaiadr1.phot_variable_time_series_gfov\n",
      "gaiadr1.gaiadr1.phot_variable_time_series_gfov_statistical_parameters\n",
      "gaiadr1.gaiadr1.rrlyrae\n",
      "gaiadr1.gaiadr1.variable_summary\n",
      "gaiadr1.gaiadr1.allwise_original_valid\n",
      "gaiadr1.gaiadr1.gsc23_original_valid\n",
      "gaiadr1.gaiadr1.ppmxl_original_valid\n",
      "gaiadr1.gaiadr1.sdssdr9_original_valid\n",
      "gaiadr1.gaiadr1.tmass_original_valid\n",
      "gaiadr1.gaiadr1.ucac4_original_valid\n",
      "gaiadr1.gaiadr1.urat1_original_valid\n",
      "gaiadr1.gaiadr1.gaia_source\n",
      "gaiadr1.gaiadr1.tgas_source\n",
      "gaiadr2.gaiadr2.aux_allwise_agn_gdr2_cross_id\n",
      "gaiadr2.gaiadr2.aux_iers_gdr2_cross_id\n",
      "gaiadr2.gaiadr2.aux_sso_orbit_residuals\n",
      "gaiadr2.gaiadr2.aux_sso_orbits\n",
      "gaiadr2.gaiadr2.dr1_neighbourhood\n",
      "gaiadr2.gaiadr2.allwise_best_neighbour\n",
      "gaiadr2.gaiadr2.allwise_neighbourhood\n",
      "gaiadr2.gaiadr2.apassdr9_best_neighbour\n",
      "gaiadr2.gaiadr2.apassdr9_neighbourhood\n",
      "gaiadr2.gaiadr2.gsc23_best_neighbour\n",
      "gaiadr2.gaiadr2.gsc23_neighbourhood\n",
      "gaiadr2.gaiadr2.hipparcos2_best_neighbour\n",
      "gaiadr2.gaiadr2.hipparcos2_neighbourhood\n",
      "gaiadr2.gaiadr2.panstarrs1_best_neighbour\n",
      "gaiadr2.gaiadr2.panstarrs1_neighbourhood\n",
      "gaiadr2.gaiadr2.ppmxl_best_neighbour\n",
      "gaiadr2.gaiadr2.ppmxl_neighbourhood\n",
      "gaiadr2.gaiadr2.ravedr5_best_neighbour\n",
      "gaiadr2.gaiadr2.ravedr5_neighbourhood\n",
      "gaiadr2.gaiadr2.sdssdr9_best_neighbour\n",
      "gaiadr2.gaiadr2.sdssdr9_neighbourhood\n",
      "gaiadr2.gaiadr2.tmass_best_neighbour\n",
      "gaiadr2.gaiadr2.tmass_neighbourhood\n",
      "gaiadr2.gaiadr2.tycho2_best_neighbour\n",
      "gaiadr2.gaiadr2.tycho2_neighbourhood\n",
      "gaiadr2.gaiadr2.urat1_best_neighbour\n",
      "gaiadr2.gaiadr2.urat1_neighbourhood\n",
      "gaiadr2.gaiadr2.sso_observation\n",
      "gaiadr2.gaiadr2.sso_source\n",
      "gaiadr2.gaiadr2.vari_cepheid\n",
      "gaiadr2.gaiadr2.vari_classifier_class_definition\n",
      "gaiadr2.gaiadr2.vari_classifier_definition\n",
      "gaiadr2.gaiadr2.vari_classifier_result\n",
      "gaiadr2.gaiadr2.vari_long_period_variable\n",
      "gaiadr2.gaiadr2.vari_rotation_modulation\n",
      "gaiadr2.gaiadr2.vari_rrlyrae\n",
      "gaiadr2.gaiadr2.vari_short_timescale\n",
      "gaiadr2.gaiadr2.vari_time_series_statistics\n",
      "gaiadr2.gaiadr2.panstarrs1_original_valid\n",
      "gaiadr2.gaiadr2.gaia_source\n"
     ]
    }
   ],
   "source": [
    "tables = Gaia.load_tables(only_names=True)\n",
    "for table in (tables):\n",
    "    print (table.get_qualified_name())"
   ]
  },
  {
   "cell_type": "code",
   "execution_count": 4,
   "metadata": {
    "scrolled": true
   },
   "outputs": [
    {
     "name": "stdout",
     "output_type": "stream",
     "text": [
      "Retrieving table 'gaiadr2.gaia_source'\n",
      "Parsing table 'gaiadr2.gaia_source'...\n",
      "Done.\n",
      "solution_id\n",
      "designation\n",
      "source_id\n",
      "random_index\n",
      "ref_epoch\n",
      "ra\n",
      "ra_error\n",
      "dec\n",
      "dec_error\n",
      "parallax\n",
      "parallax_error\n",
      "parallax_over_error\n",
      "pmra\n",
      "pmra_error\n",
      "pmdec\n",
      "pmdec_error\n",
      "ra_dec_corr\n",
      "ra_parallax_corr\n",
      "ra_pmra_corr\n",
      "ra_pmdec_corr\n",
      "dec_parallax_corr\n",
      "dec_pmra_corr\n",
      "dec_pmdec_corr\n",
      "parallax_pmra_corr\n",
      "parallax_pmdec_corr\n",
      "pmra_pmdec_corr\n",
      "astrometric_n_obs_al\n",
      "astrometric_n_obs_ac\n",
      "astrometric_n_good_obs_al\n",
      "astrometric_n_bad_obs_al\n",
      "astrometric_gof_al\n",
      "astrometric_chi2_al\n",
      "astrometric_excess_noise\n",
      "astrometric_excess_noise_sig\n",
      "astrometric_params_solved\n",
      "astrometric_primary_flag\n",
      "astrometric_weight_al\n",
      "astrometric_pseudo_colour\n",
      "astrometric_pseudo_colour_error\n",
      "mean_varpi_factor_al\n",
      "astrometric_matched_observations\n",
      "visibility_periods_used\n",
      "astrometric_sigma5d_max\n",
      "frame_rotator_object_type\n",
      "matched_observations\n",
      "duplicated_source\n",
      "phot_g_n_obs\n",
      "phot_g_mean_flux\n",
      "phot_g_mean_flux_error\n",
      "phot_g_mean_flux_over_error\n",
      "phot_g_mean_mag\n",
      "phot_bp_n_obs\n",
      "phot_bp_mean_flux\n",
      "phot_bp_mean_flux_error\n",
      "phot_bp_mean_flux_over_error\n",
      "phot_bp_mean_mag\n",
      "phot_rp_n_obs\n",
      "phot_rp_mean_flux\n",
      "phot_rp_mean_flux_error\n",
      "phot_rp_mean_flux_over_error\n",
      "phot_rp_mean_mag\n",
      "phot_bp_rp_excess_factor\n",
      "phot_proc_mode\n",
      "bp_rp\n",
      "bp_g\n",
      "g_rp\n",
      "radial_velocity\n",
      "radial_velocity_error\n",
      "rv_nb_transits\n",
      "rv_template_teff\n",
      "rv_template_logg\n",
      "rv_template_fe_h\n",
      "phot_variable_flag\n",
      "l\n",
      "b\n",
      "ecl_lon\n",
      "ecl_lat\n",
      "priam_flags\n",
      "teff_val\n",
      "teff_percentile_lower\n",
      "teff_percentile_upper\n",
      "a_g_val\n",
      "a_g_percentile_lower\n",
      "a_g_percentile_upper\n",
      "e_bp_min_rp_val\n",
      "e_bp_min_rp_percentile_lower\n",
      "e_bp_min_rp_percentile_upper\n",
      "flame_flags\n",
      "radius_val\n",
      "radius_percentile_lower\n",
      "radius_percentile_upper\n",
      "lum_val\n",
      "lum_percentile_lower\n",
      "lum_percentile_upper\n",
      "datalink_url\n",
      "epoch_photometry_url\n"
     ]
    }
   ],
   "source": [
    "gaiadr2_table = Gaia.load_table('gaiadr2.gaia_source')\n",
    "for column in (gaiadr2_table.get_columns()):\n",
    "    print(column.get_name())"
   ]
  },
  {
   "cell_type": "markdown",
   "metadata": {},
   "source": [
    "### Next, we retrieve the data \n",
    "\n",
    "*Note: The query to the archive is with ADQL (Astronomical Data Query Language). *"
   ]
  },
  {
   "cell_type": "code",
   "execution_count": 5,
   "metadata": {},
   "outputs": [
    {
     "name": "stdout",
     "output_type": "stream",
     "text": [
      "SELECT TOP 200000 ra, dec, parallax, pmra, pmdec, radial_velocity, teff_val, phot_g_mean_mag FROM gaiadr2.gaia_source WHERE phot_g_mean_mag<=12 AND parallax IS NOT NULL \n"
     ]
    },
    {
     "name": "stderr",
     "output_type": "stream",
     "text": [
      "WARNING: W27: None:3:0: W27: COOSYS deprecated in VOTable 1.2 [astropy.io.votable.tree]\n",
      "WARNING: W35: None:5:0: W35: 'value' attribute required for INFO elements [astropy.io.votable.tree]\n",
      "WARNING: W35: None:6:0: W35: 'value' attribute required for INFO elements [astropy.io.votable.tree]\n",
      "WARNING: W35: None:7:0: W35: 'value' attribute required for INFO elements [astropy.io.votable.tree]\n",
      "WARNING: W35: None:8:0: W35: 'value' attribute required for INFO elements [astropy.io.votable.tree]\n",
      "WARNING: W35: None:10:0: W35: 'value' attribute required for INFO elements [astropy.io.votable.tree]\n",
      "WARNING: W50: None:21:0: W50: Invalid unit string 'mas.yr**-1' [astropy.io.votable.tree]\n",
      "WARNING: W50: None:24:0: W50: Invalid unit string 'mas.yr**-1' [astropy.io.votable.tree]\n",
      "WARNING: W50: None:27:0: W50: Invalid unit string 'km.s**-1' [astropy.io.votable.tree]\n"
     ]
    },
    {
     "name": "stdout",
     "output_type": "stream",
     "text": [
      "Query finished.\n",
      "<Table masked=True length=200000>\n",
      "      name       dtype     unit    format                description                 n_bad\n",
      "--------------- ------- ---------- ------ ------------------------------------------ -----\n",
      "             ra float64        deg {!r:>}                            Right ascension     0\n",
      "            dec float64        deg {!r:>}                                Declination     0\n",
      "       parallax float64        mas {!r:>}                                   Parallax     0\n",
      "           pmra float64 mas.yr**-1 {!r:>} Proper motion in right ascension direction     0\n",
      "          pmdec float64 mas.yr**-1 {!r:>}     Proper motion in declination direction     0\n",
      "radial_velocity float64   km.s**-1 {!r:>}                            Radial velocity 62006\n",
      "       teff_val float32          K {!r:>}              stellar effective temperature   301\n",
      "phot_g_mean_mag float32        mag {!r:>}                      G-band mean magnitude     0\n",
      "Jobid: 1525975251384O\n",
      "Phase: COMPLETED\n",
      "Owner: None\n",
      "Output file: async_20180510130051.vot\n",
      "Results: None\n"
     ]
    }
   ],
   "source": [
    "#NOTE: not all sources have RVs\n",
    "#cmd = \"SELECT TOP 100 ra, dec, parallax, pmra, pmdec, radial_velocity FROM gaiadr2.gaia_source\"\n",
    "\n",
    "#NOTE: It looks like there are \n",
    "#480235 sources with g <=10 and with parallaxes\n",
    "#1236351 sources with g <=11 and with parallaxes\n",
    "#I could only get 3000000 for g<=12.  I wonder if that is the limit?\n",
    "#I think this is already ordered by gmag, so by default this will pull the brightest first\n",
    "N = 2e5\n",
    "gmax = 12\n",
    "\n",
    "cmd = \"SELECT TOP \" + str(np.int(N))+\" \\\n",
    "ra, dec, parallax, pmra, pmdec, radial_velocity, teff_val, phot_g_mean_mag \\\n",
    "FROM gaiadr2.gaia_source \\\n",
    "WHERE phot_g_mean_mag<=\" + str(gmax) +\" \\\n",
    "AND parallax IS NOT NULL \"#\\\n",
    "#AND radial_velocity IS NOT NULL\"\n",
    "print(cmd)\n",
    "\n",
    "#synchronous commands are OK for jobs with < 2000 output rows\n",
    "#job = Gaia.launch_job(cmd, dump_to_file=False) \n",
    "\n",
    "#asynchronous commands for larger files\n",
    "job = Gaia.launch_job_async(cmd, dump_to_file=False)\n",
    "\n",
    "print (job)"
   ]
  },
  {
   "cell_type": "markdown",
   "metadata": {},
   "source": [
    "*Inspect the output table and number of rows:*"
   ]
  },
  {
   "cell_type": "code",
   "execution_count": 6,
   "metadata": {},
   "outputs": [
    {
     "name": "stdout",
     "output_type": "stream",
     "text": [
      "200000\n",
      "        ra                 dec         ...  teff_val phot_g_mean_mag\n",
      "       deg                 deg         ...     K           mag      \n",
      "------------------ ------------------- ... --------- ---------------\n",
      " 274.4061143187362  -36.76240607839242 ... 4732.6665       1.9249064\n",
      "109.28559761663782 -37.097446909729776 ... 4732.6665        1.970477\n",
      "311.55470104855004   33.97165785643453 ... 4732.6665       2.0226774\n",
      " 296.5649839440163  10.613253300439279 ... 4732.6665       2.0403643\n",
      "236.06755715935202   6.425826685796823 ... 4732.6665       2.1248496\n",
      "226.01721301839848 -25.282153195983703 ...    4710.0       2.1342418\n",
      " 275.2486775206737  -29.82821901708563 ... 4732.6665       2.1481218\n",
      " 59.50763338363228 -13.508997297697881 ... 4732.6665       2.1506112\n",
      " 261.3248898046725  -55.52999303063296 ... 4732.6665       2.1833172\n",
      "155.58177692208324    41.4996586971537 ... 4732.6665       2.1958747\n",
      "               ...                 ... ...       ...             ...\n",
      "298.72293313370795  -2.059725949806525 ...   3861.45        9.118316\n",
      "115.21513719711339   69.26584224543808 ...  4877.973        9.118324\n",
      " 165.8544234277555   40.30612594042846 ...  6343.375        9.118326\n",
      " 89.86302291719508   -47.8729954783384 ...    4974.0        9.118334\n",
      " 293.9626043796018  -36.42311975848661 ...   4053.43         9.11834\n",
      " 170.0376781825115 -62.422137859068776 ... 3927.9023        9.118341\n",
      " 337.3125292407162   24.17094547901826 ...   4838.85        9.118342\n",
      "306.79493304105193  -46.86215874785682 ... 5790.3335         9.11835\n",
      "330.94144886708483   63.61723170887887 ...  8483.333        9.118368\n",
      " 333.7959466444198 -19.679044006223574 ...    5841.0        9.118369\n",
      "Length = 200000 rows\n"
     ]
    }
   ],
   "source": [
    "r = job.get_results()\n",
    "print(len(r))\n",
    "print(r)"
   ]
  },
  {
   "cell_type": "markdown",
   "metadata": {},
   "source": [
    "### Convert these ra, dec, parallax coordinates to 3D cartesian"
   ]
  },
  {
   "cell_type": "code",
   "execution_count": 7,
   "metadata": {},
   "outputs": [
    {
     "name": "stdout",
     "output_type": "stream",
     "text": [
      "Number, fraction where parallax < 0 : 428 0.00214\n"
     ]
    },
    {
     "name": "stderr",
     "output_type": "stream",
     "text": [
      "/Users/ageller/anaconda/envs/py36/lib/python3.6/site-packages/ipykernel_launcher.py:12: UserWarning: Warning: converting a masked element to nan.\n",
      "  if sys.path[0] == '':\n"
     ]
    },
    {
     "name": "stdout",
     "output_type": "stream",
     "text": [
      "Number, fraction without RVs : 62006 0.31003\n",
      "[(  3.1315411 , -40.64130966,  -30.45201359),\n",
      " (-69.37069534, 198.25135221, -158.83565473),\n",
      " ( 12.74090792, -14.37330244,   12.94170654), ...,\n",
      " ( 48.82387921, -65.27626066,  -86.99402657),\n",
      " (162.33831139, -90.20258624,  374.40406739),\n",
      " ( 95.97674132, -47.23484563,  -38.25681209)] pc\n",
      "[(-33.55327794,  21.29293495, -31.86804804),\n",
      " ( 16.67902548,   7.65774824,   2.27356602),\n",
      " ( 17.50045152,  40.82817405,  28.11561606), ...,\n",
      " ( -9.51045427, -41.47291497, -42.84546696),\n",
      " (  5.09987414,   4.39743501,  -1.15181693),\n",
      " ( 13.84408705, -20.2812323 , -28.05847496)] km / s\n"
     ]
    }
   ],
   "source": [
    "#it is odd that some of the parallaxes are negative!\n",
    "xx = np.where(r['parallax'] < 0)[0]\n",
    "print(\"Number, fraction where parallax < 0 :\", len(xx), len(xx)/len(r['parallax']))\n",
    "dist = np.abs((r['parallax']).to(u.parsec, equivalencies=u.parallax()))\n",
    "\n",
    "#this only contains the position, and in cartesian it is much faster\n",
    "#astroC = SkyCoord(ra=r['ra'], dec=r['dec'], distance=dist).cartesian #transform_to(coord.Galactocentric)\n",
    "\n",
    "#this would account for velocities also\n",
    "pmra = np.array([x for x in r['pmra']]) * u.mas/u.yr\n",
    "pmdec = np.array([x for x in r['pmdec']]) * u.mas/u.yr\n",
    "rv = np.array([x for x in r['radial_velocity']]) * u.km/u.s \n",
    "xx = np.where(np.isnan(r['radial_velocity']) )[0]\n",
    "print(\"Number, fraction without RVs :\", len(xx), len(xx)/len(r['radial_velocity']))\n",
    "#################\n",
    "#################\n",
    "# what should we about missing RV data?\n",
    "#################\n",
    "#################\n",
    "for i in xx:\n",
    "    rv[i] = 0*u.km/u.s\n",
    "\n",
    "#NOTE: without RVs, the velocities are not correct\n",
    "astroC = ICRS(ra=r['ra'], dec=r['dec'], distance=dist, pm_ra_cosdec=pmra, pm_dec=pmdec, radial_velocity=rv)\n",
    "\n",
    "print(astroC.cartesian)\n",
    "print(astroC.velocity)"
   ]
  },
  {
   "cell_type": "markdown",
   "metadata": {},
   "source": [
    "*Now put these in the format expected by FIREreader, and convert to cartesian*"
   ]
  },
  {
   "cell_type": "code",
   "execution_count": 8,
   "metadata": {
    "scrolled": false
   },
   "outputs": [
    {
     "name": "stdout",
     "output_type": "stream",
     "text": [
      "[[    3.1315411    -40.64130966   -30.45201359]\n",
      " [  -69.37069534   198.25135221  -158.83565473]\n",
      " [   12.74090792   -14.37330244    12.94170654]\n",
      " [  160.33843567  -320.67781207    67.18262268]\n",
      " [  -14.08974221   -20.94212353     2.84272035]\n",
      " [  -79.24365749   -82.10856      -53.89665179]\n",
      " [  108.7320149  -1183.62180629  -681.49846896]\n",
      " [   26.02758967    44.19954352   -12.32302709]\n",
      " [  -31.68304766  -207.65290788  -305.97646536]\n",
      " [  -69.26527358    31.44668857    67.29982114]]\n",
      "[[ -33.55327794   21.29293495  -31.86804804]\n",
      " [  16.67902548    7.65774824    2.27356602]\n",
      " [  17.50045152   40.82817405   28.11561606]\n",
      " [  21.02644327   10.37017869   -0.68262904]\n",
      " [  14.19712109   -8.7897444     5.61358882]\n",
      " [ -25.83807412   38.62141367  -20.84814415]\n",
      " [ 230.46615975   88.51491928 -116.96158151]\n",
      " [  13.57355724   52.01586083  -41.42106981]\n",
      " [  -7.53879845   32.9227632   -21.56262377]\n",
      " [  30.10615173   35.05319079   14.60633989]]\n",
      "3279.0 9803.0\n",
      "1.9249064 9.118369\n"
     ]
    }
   ],
   "source": [
    "p = astroC.cartesian\n",
    "v = astroC.velocity\n",
    "coordinates = np.dstack((p.x.to(u.pc).value, p.y.to(u.pc).value, p.z.to(u.pc).value)).squeeze()\n",
    "velocities = np.dstack((v.d_x.to(u.km/u.s).value, v.d_y.to(u.km/u.s).value, v.d_z.to(u.km/u.s).value)).squeeze()\n",
    "Teff = np.array(r['teff_val'])\n",
    "gMag = np.array(r['phot_g_mean_mag'])\n",
    " \n",
    "print(coordinates[0:10])\n",
    "print(velocities[0:10])\n",
    "print(min(Teff), max(Teff))\n",
    "print(min(gMag), max(gMag))"
   ]
  },
  {
   "cell_type": "markdown",
   "metadata": {},
   "source": [
    "### Create the Firefly data files using FIREreader"
   ]
  },
  {
   "cell_type": "code",
   "execution_count": 9,
   "metadata": {},
   "outputs": [
    {
     "name": "stdout",
     "output_type": "stream",
     "text": [
      "shuffling ... \n",
      "writing JSON files ...\n",
      "Gaia\n",
      "Gaia/GaiaDataOptions.json\n"
     ]
    }
   ],
   "source": [
    "pname = 'Gaia'\n",
    "\n",
    "reader = FIREreader()\n",
    "\n",
    "#set all of these manually\n",
    "reader.returnParts = [pname] \n",
    "reader.names = {pname:pname}\n",
    "reader.dataDir = pname\n",
    "reader.JSONfname = pname+'Data'\n",
    "\n",
    "#create a space for the data in partsDict\n",
    "reader.partsDict[pname] = dict()\n",
    "\n",
    "#define the defaults; this must be run first if you want to change the defaults below\n",
    "reader.defineDefaults()\n",
    "reader.defineFilterKeys()\n",
    "\n",
    "#update a few of the options\n",
    "reader.options['sizeMult'][pname] = 0.001\n",
    "reader.options['color'][pname] = [1., 1., 1., 1.] \n",
    "reader.options['center'] = [0,0,0]\n",
    "\n",
    "reader.addtodict(reader.partsDict,None,pname,'Coordinates',0,0,vals=coordinates)\n",
    "reader.addtodict(reader.partsDict,None,pname,'Velocities',0,0,vals=velocities)\n",
    "reader.addtodict(reader.partsDict,None,pname,'Teff',0,0,vals=Teff, filterFlag = True)\n",
    "reader.addtodict(reader.partsDict,None,pname,'gMag',0,0,vals=gMag, filterFlag = True)\n",
    "\n",
    "\n",
    "reader.shuffle_dict()\n",
    "reader.swap_dict_names()\n",
    "reader.createJSON()"
   ]
  },
  {
   "cell_type": "code",
   "execution_count": null,
   "metadata": {},
   "outputs": [],
   "source": []
  }
 ],
 "metadata": {
  "anaconda-cloud": {},
  "kernelspec": {
   "display_name": "Python 3",
   "language": "python",
   "name": "python3"
  },
  "language_info": {
   "codemirror_mode": {
    "name": "ipython",
    "version": 3
   },
   "file_extension": ".py",
   "mimetype": "text/x-python",
   "name": "python",
   "nbconvert_exporter": "python",
   "pygments_lexer": "ipython3",
   "version": "3.6.4"
  }
 },
 "nbformat": 4,
 "nbformat_minor": 1
}
